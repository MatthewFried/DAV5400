{
 "cells": [
  {
   "cell_type": "code",
   "execution_count": 1,
   "metadata": {},
   "outputs": [],
   "source": [
    "import csv\n",
    "# be sure to update the path below to reflect your own environment!!\n",
    "# also be sure that the code is properly indented after you paste it!\n",
    "\n",
    "\n",
    "## made empty lists for rows\n",
    "price_list = []\n",
    "main_cost_list = []\n",
    "num_doors_list = []\n",
    "num_passenger_list = []\n",
    "lugg_cap_list = []\n",
    "safety_rating_list = []\n",
    "class_of_vehicle = []\n",
    "with open('/Users/RandyLeon/Desktop/cars-sample35.txt') as csvfile:\n",
    "    readCSV = csv.reader(csvfile)\n",
    "    for row in readCSV:\n",
    "    # print each row as read by the csv.reader function\n",
    "        price_list.append(row[0])\n",
    "        main_cost_list.append(row[1])\n",
    "        num_doors_list.append(row[2])\n",
    "        num_passenger_list.append(row[3])\n",
    "        lugg_cap_list.append(row[4])\n",
    "        safety_rating_list.append(row[5])\n",
    "        class_of_vehicle.append(row[6])"
   ]
  },
  {
   "cell_type": "code",
   "execution_count": 2,
   "metadata": {},
   "outputs": [
    {
     "name": "stdout",
     "output_type": "stream",
     "text": [
      "['high', 'high', 'high', 'high', 'vhigh', 'low', 'med', 'low', 'vhigh', 'vhigh', 'low', 'vhigh', 'high', 'low', 'high', 'vhigh', 'med', 'high', 'low', 'low', 'med', 'low', 'vhigh', 'med', 'low', 'vhigh', 'med', 'high', 'low', 'med', 'high', 'high', 'low', 'vhigh', 'high']\n",
      "35\n",
      "0\n",
      "1\n",
      "2\n",
      "3\n",
      "4\n",
      "5\n",
      "6\n",
      "7\n",
      "8\n",
      "9\n",
      "10\n",
      "11\n",
      "12\n",
      "13\n",
      "14\n",
      "15\n",
      "16\n",
      "17\n",
      "18\n",
      "19\n",
      "20\n",
      "21\n",
      "22\n",
      "23\n",
      "24\n",
      "25\n",
      "26\n",
      "27\n",
      "28\n",
      "29\n",
      "30\n",
      "31\n",
      "32\n",
      "33\n",
      "34\n",
      "[6, 16, 20, 23, 26, 29]\n"
     ]
    }
   ],
   "source": [
    "##find the list index values of each automobile having a price rating of \"med\"\n",
    "print(price_list)\n",
    "price_list_med = []\n",
    "print(len(price_list))\n",
    "for i in range(len(price_list)):\n",
    "\tprint(i)\n",
    "\tif price_list[i] == 'med':\n",
    "\t\tprice_list_med.append(i)\n",
    "print(price_list_med)"
   ]
  },
  {
   "cell_type": "code",
   "execution_count": 3,
   "metadata": {},
   "outputs": [
    {
     "name": "stdout",
     "output_type": "stream",
     "text": [
      "['4', 'more', 'more', 'more', '2', '2', 'more', '2', '2', '4', '2', 'more', '4', 'more', '2', 'more', '2', '4', 'more', '2', '2', '2', '4', '2', '4', 'more', '4', '4', '2', '2', '4', '4', '2', '2', '2']\n",
      "35\n"
     ]
    }
   ],
   "source": [
    "##find the \"number of passengers\" value for each auto having a \"price\" value of \"med\"\n",
    "\n",
    "print(num_passenger_list)\n",
    "print(len(num_passenger_list))"
   ]
  },
  {
   "cell_type": "code",
   "execution_count": 4,
   "metadata": {},
   "outputs": [
    {
     "name": "stdout",
     "output_type": "stream",
     "text": [
      "more 2 2 2 4 2\n"
     ]
    }
   ],
   "source": [
    "##using found indices in previous task to find the number of passengers with price of \"med\"\n",
    "print(num_passenger_list[6],\n",
    "      num_passenger_list[16],\n",
    "      num_passenger_list[20],\n",
    "      num_passenger_list[23],\n",
    "      num_passenger_list[26],\n",
    "      num_passenger_list[29], )"
   ]
  },
  {
   "cell_type": "code",
   "execution_count": 6,
   "metadata": {},
   "outputs": [],
   "source": [
    "#making new list with found indices\n",
    "num_pass_med = [\"more\", 2, 2, 2, 4, 2]"
   ]
  },
  {
   "cell_type": "code",
   "execution_count": 7,
   "metadata": {},
   "outputs": [
    {
     "name": "stdout",
     "output_type": "stream",
     "text": [
      "['more', 2, 2, 2, 4, 2]\n"
     ]
    }
   ],
   "source": [
    "#testing new list\n",
    "print(num_pass_med)"
   ]
  },
  {
   "cell_type": "code",
   "execution_count": 11,
   "metadata": {},
   "outputs": [
    {
     "name": "stdout",
     "output_type": "stream",
     "text": [
      "['high', 'high', 'high', 'high', 'vhigh', 'low', 'med', 'low', 'vhigh', 'vhigh', 'low', 'vhigh', 'high', 'low', 'high', 'vhigh', 'med', 'high', 'low', 'low', 'med', 'low', 'vhigh', 'med', 'low', 'vhigh', 'med', 'high', 'low', 'med', 'high', 'high', 'low', 'vhigh', 'high']\n",
      "['high', 'high', 'high', 'low', 'low', 'high', 'med', 'low', 'low', 'high', 'low', 'low', 'low', 'vhigh', 'low', 'high', 'med', 'low', 'low', 'low', 'high', 'low', 'high', 'vhigh', 'vhigh', 'low', 'vhigh', 'high', 'high', 'high', 'low', 'vhigh', 'low', 'vhigh', 'low']\n"
     ]
    }
   ],
   "source": [
    "print(price_list)\n",
    "print(main_cost_list)"
   ]
  },
  {
   "cell_type": "code",
   "execution_count": 12,
   "metadata": {},
   "outputs": [
    {
     "name": "stdout",
     "output_type": "stream",
     "text": [
      "['high', 'high', 'high', 'high', 'vhigh', 'low', 'med', 'low', 'vhigh', 'vhigh', 'low', 'vhigh', 'high', 'low', 'high', 'vhigh', 'med', 'high', 'low', 'low', 'med', 'low', 'vhigh', 'med', 'low', 'vhigh', 'med', 'high', 'low', 'med', 'high', 'high', 'low', 'vhigh', 'high']\n",
      "35\n",
      "0\n",
      "1\n",
      "2\n",
      "3\n",
      "4\n",
      "5\n",
      "6\n",
      "7\n",
      "8\n",
      "9\n",
      "10\n",
      "11\n",
      "12\n",
      "13\n",
      "14\n",
      "15\n",
      "16\n",
      "17\n",
      "18\n",
      "19\n",
      "20\n",
      "21\n",
      "22\n",
      "23\n",
      "24\n",
      "25\n",
      "26\n",
      "27\n",
      "28\n",
      "29\n",
      "30\n",
      "31\n",
      "32\n",
      "33\n",
      "34\n",
      "[0, 1, 2, 3, 12, 14, 17, 27, 30, 31, 34]\n"
     ]
    }
   ],
   "source": [
    "####find the index value for each automobile having a price value of \"high\"\n",
    "print(price_list)\n",
    "price_list_high = []\n",
    "print(len(price_list))\n",
    "for i in range(len(price_list)):\n",
    "\tprint(i)\n",
    "\tif price_list[i] == 'high':\n",
    "\t\tprice_list_high.append(i)\n",
    "print(price_list_high)"
   ]
  },
  {
   "cell_type": "code",
   "execution_count": 13,
   "metadata": {},
   "outputs": [
    {
     "name": "stdout",
     "output_type": "stream",
     "text": [
      "['high', 'high', 'high', 'low', 'low', 'high', 'med', 'low', 'low', 'high', 'low', 'low', 'low', 'vhigh', 'low', 'high', 'med', 'low', 'low', 'low', 'high', 'low', 'high', 'vhigh', 'vhigh', 'low', 'vhigh', 'high', 'high', 'high', 'low', 'vhigh', 'low', 'vhigh', 'low']\n",
      "35\n",
      "0\n",
      "1\n",
      "2\n",
      "3\n",
      "4\n",
      "5\n",
      "6\n",
      "7\n",
      "8\n",
      "9\n",
      "10\n",
      "11\n",
      "12\n",
      "13\n",
      "14\n",
      "15\n",
      "16\n",
      "17\n",
      "18\n",
      "19\n",
      "20\n",
      "21\n",
      "22\n",
      "23\n",
      "24\n",
      "25\n",
      "26\n",
      "27\n",
      "28\n",
      "29\n",
      "30\n",
      "31\n",
      "32\n",
      "33\n",
      "34\n",
      "[0, 1, 2, 3, 4, 6, 8, 9, 11, 12, 14, 15, 16, 17, 20, 22, 23, 25, 26, 27, 29, 30, 31, 33, 34]\n"
     ]
    }
   ],
   "source": [
    "##and a maintenance value that is not \"low\" trying to use same logic as previous function but this time using a not equals to\n",
    "print(main_cost_list)\n",
    "price_main_nlow = []\n",
    "print(len(main_cost_list))\n",
    "for i in range(len(main_cost_list)):\n",
    "    print(i)\n",
    "    if price_list[i] != 'low':\n",
    "        price_main_nlow.append(i)\n",
    "print(price_main_nlow)"
   ]
  },
  {
   "cell_type": "code",
   "execution_count": 14,
   "metadata": {},
   "outputs": [
    {
     "name": "stdout",
     "output_type": "stream",
     "text": [
      "[0, 1, 2, 3, 12, 14, 17, 27, 30, 31, 34]\n",
      "[0, 1, 2, 3, 4, 6, 8, 9, 11, 12, 14, 15, 16, 17, 20, 22, 23, 25, 26, 27, 29, 30, 31, 33, 34]\n"
     ]
    }
   ],
   "source": [
    "#testing new lists\n",
    "\n",
    "print(price_list_high)\n",
    "print(price_main_nlow)\n"
   ]
  },
  {
   "cell_type": "code",
   "execution_count": 15,
   "metadata": {},
   "outputs": [],
   "source": [
    "##let's go that worked"
   ]
  },
  {
   "cell_type": "code",
   "execution_count": 16,
   "metadata": {},
   "outputs": [],
   "source": [
    "##Your fifth task is to \n",
    "##find the index value for each auto having 2 doors and \n",
    "##luggage value of \"big\". \n",
    "##Create a new list to store your findings and be sure to print your results."
   ]
  },
  {
   "cell_type": "code",
   "execution_count": 17,
   "metadata": {},
   "outputs": [
    {
     "name": "stdout",
     "output_type": "stream",
     "text": [
      "['2', '4', '4', '2', '3', '2', '4', '3', '2', '4', '2', '4', '2', '3', '5more', '2', '2', '5more', '3', '2', '4', '2', '5more', '2', '4', '3', '3', '3', '5more', '5more', '3', '5more', '5more', '4', '3']\n"
     ]
    }
   ],
   "source": [
    "#looking at list for each auto having two doors\n",
    "print(num_doors_list)"
   ]
  },
  {
   "cell_type": "code",
   "execution_count": 18,
   "metadata": {},
   "outputs": [
    {
     "name": "stdout",
     "output_type": "stream",
     "text": [
      "35\n",
      "0\n",
      "1\n",
      "2\n",
      "3\n",
      "4\n",
      "5\n",
      "6\n",
      "7\n",
      "8\n",
      "9\n",
      "10\n",
      "11\n",
      "12\n",
      "13\n",
      "14\n",
      "15\n",
      "16\n",
      "17\n",
      "18\n",
      "19\n",
      "20\n",
      "21\n",
      "22\n",
      "23\n",
      "24\n",
      "25\n",
      "26\n",
      "27\n",
      "28\n",
      "29\n",
      "30\n",
      "31\n",
      "32\n",
      "33\n",
      "34\n",
      "[0, 3, 5, 8, 10, 12, 15, 16, 19, 21, 23]\n"
     ]
    }
   ],
   "source": [
    "##finding indices of autos having two doors\n",
    "two_door_cars = []\n",
    "print(len(num_doors_list))\n",
    "for i in range(len(num_doors_list)):\n",
    "    print(i)\n",
    "    if num_doors_list[i] == '2':\n",
    "        two_door_cars.append(i)\n",
    "print(two_door_cars)"
   ]
  },
  {
   "cell_type": "code",
   "execution_count": 19,
   "metadata": {},
   "outputs": [
    {
     "name": "stdout",
     "output_type": "stream",
     "text": [
      "['med', 'small', 'big', 'big', 'med', 'small', 'med', 'big', 'small', 'med', 'med', 'small', 'big', 'big', 'big', 'med', 'small', 'med', 'med', 'big', 'big', 'small', 'med', 'big', 'big', 'big', 'small', 'med', 'big', 'med', 'med', 'med', 'med', 'big', 'big']\n"
     ]
    }
   ],
   "source": [
    "##looking at luggage list\n",
    "print(lugg_cap_list)"
   ]
  },
  {
   "cell_type": "code",
   "execution_count": 20,
   "metadata": {},
   "outputs": [
    {
     "name": "stdout",
     "output_type": "stream",
     "text": [
      "35\n",
      "0\n",
      "1\n",
      "2\n",
      "3\n",
      "4\n",
      "5\n",
      "6\n",
      "7\n",
      "8\n",
      "9\n",
      "10\n",
      "11\n",
      "12\n",
      "13\n",
      "14\n",
      "15\n",
      "16\n",
      "17\n",
      "18\n",
      "19\n",
      "20\n",
      "21\n",
      "22\n",
      "23\n",
      "24\n",
      "25\n",
      "26\n",
      "27\n",
      "28\n",
      "29\n",
      "30\n",
      "31\n",
      "32\n",
      "33\n",
      "34\n",
      "[2, 3, 7, 12, 13, 14, 19, 20, 23, 24, 25, 28, 33, 34]\n"
     ]
    }
   ],
   "source": [
    "##finding and print index values of luggage capacities that are 'big'\n",
    "big_luggage = []\n",
    "print(len(lugg_cap_list))\n",
    "for i in range(len(lugg_cap_list)):\n",
    "    print(i)\n",
    "    if lugg_cap_list[i] == 'big':\n",
    "        big_luggage.append(i)\n",
    "print(big_luggage)"
   ]
  },
  {
   "cell_type": "code",
   "execution_count": 22,
   "metadata": {},
   "outputs": [
    {
     "data": {
      "text/plain": [
       "{3, 12, 19, 23}"
      ]
     },
     "execution_count": 22,
     "metadata": {},
     "output_type": "execute_result"
    }
   ],
   "source": [
    "## these are the indices of the cars that have two doors AND have big luggage capacities \n",
    "set(two_door_cars).intersection(big_luggage)"
   ]
  },
  {
   "cell_type": "markdown",
   "metadata": {},
   "source": [
    "#Finally, create a new list containing the only the integer equivalents of the doors values. \n",
    "#Keep in mind that the lists you have created thus far are composed solely of strings. \n",
    "#If you find any values of '5more' in your list, convert them to a '5'.\n",
    "#After converting the '5more' values to '5', convert all of the items in your list \n",
    "#to their numeric equivalent and calculate the average number of doors \n",
    "#across all 35 autos using whichever of Python's built in functions you require. \n",
    "#Print your result.##"
   ]
  },
  {
   "cell_type": "code",
   "execution_count": 24,
   "metadata": {},
   "outputs": [
    {
     "name": "stdout",
     "output_type": "stream",
     "text": [
      "['2', '4', '4', '2', '3', '2', '4', '3', '2', '4', '2', '4', '2', '3', '5more', '2', '2', '5more', '3', '2', '4', '2', '5more', '2', '4', '3', '3', '3', '5more', '5more', '3', '5more', '5more', '4', '3']\n"
     ]
    }
   ],
   "source": [
    "#looking at number of doors list\n",
    "print(num_doors_list)"
   ]
  },
  {
   "cell_type": "code",
   "execution_count": 25,
   "metadata": {},
   "outputs": [
    {
     "name": "stdout",
     "output_type": "stream",
     "text": [
      "['2', '4', '4', '2', '3', '2', '4', '3', '2', '4', '2', '4', '2', '3', '5more', '2', '2', '5more', '3', '2', '4', '2', '5more', '2', '4', '3', '3', '3', '5more', '5more', '3', '5more', '5more', '4', '3']\n"
     ]
    }
   ],
   "source": [
    "print(num_doors_list)"
   ]
  },
  {
   "cell_type": "code",
   "execution_count": null,
   "metadata": {},
   "outputs": [],
   "source": []
  }
 ],
 "metadata": {
  "kernelspec": {
   "display_name": "Python 3",
   "language": "python",
   "name": "python3"
  },
  "language_info": {
   "codemirror_mode": {
    "name": "ipython",
    "version": 3
   },
   "file_extension": ".py",
   "mimetype": "text/x-python",
   "name": "python",
   "nbconvert_exporter": "python",
   "pygments_lexer": "ipython3",
   "version": "3.7.3"
  }
 },
 "nbformat": 4,
 "nbformat_minor": 2
}
